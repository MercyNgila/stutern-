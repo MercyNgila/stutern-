{
  "nbformat": 4,
  "nbformat_minor": 0,
  "metadata": {
    "colab": {
      "provenance": [],
      "authorship_tag": "ABX9TyOFicgMSCDioJ1GFfqXAeCD",
      "include_colab_link": true
    },
    "kernelspec": {
      "name": "python3",
      "display_name": "Python 3"
    },
    "language_info": {
      "name": "python"
    }
  },
  "cells": [
    {
      "cell_type": "markdown",
      "metadata": {
        "id": "view-in-github",
        "colab_type": "text"
      },
      "source": [
        "<a href=\"https://colab.research.google.com/github/MercyNgila/stutern-/blob/main/Stutern_SQL.ipynb\" target=\"_parent\"><img src=\"https://colab.research.google.com/assets/colab-badge.svg\" alt=\"Open In Colab\"/></a>"
      ]
    },
    {
      "cell_type": "code",
      "execution_count": 1,
      "metadata": {
        "colab": {
          "base_uri": "https://localhost:8080/"
        },
        "id": "ztZ7nnvqpBN4",
        "outputId": "d30cde93-09ff-4b0d-db12-b9ec48e7123c"
      },
      "outputs": [
        {
          "output_type": "stream",
          "name": "stdout",
          "text": [
            "Mounted at /content/drive\n"
          ]
        }
      ],
      "source": [
        "# Connect colab to drive\n",
        "from google.colab import drive\n",
        "drive.mount('/content/drive')"
      ]
    },
    {
      "cell_type": "code",
      "source": [
        "# Import relevant libraries\n",
        "import sqlite3 as sq3\n",
        "import pandas as pd\n",
        "import pandas.io.sql as pds"
      ],
      "metadata": {
        "id": "99lC4zefu9By"
      },
      "execution_count": 2,
      "outputs": []
    },
    {
      "cell_type": "code",
      "source": [
        "# Loading dataset\n",
        "sq_data = sq3.Connection('/content/drive/MyDrive/attr_data.db')"
      ],
      "metadata": {
        "id": "55WKeTGAqyPz"
      },
      "execution_count": 3,
      "outputs": []
    },
    {
      "cell_type": "code",
      "source": [
        "# Expand dataframe view\n",
        "pd.set_option('display.max_columns', None)"
      ],
      "metadata": {
        "id": "GdYEgVOo0vmQ"
      },
      "execution_count": 11,
      "outputs": []
    },
    {
      "cell_type": "code",
      "source": [
        "# Print tables in data\n",
        "tables = pd.read_sql('SELECT * FROM sqlite_master', sq_data)\n",
        "print(tables)"
      ],
      "metadata": {
        "colab": {
          "base_uri": "https://localhost:8080/"
        },
        "id": "7A7rktt1wbil",
        "outputId": "77acd143-08e6-4192-e9f0-e9a7c8b53d30"
      },
      "execution_count": 12,
      "outputs": [
        {
          "output_type": "stream",
          "name": "stdout",
          "text": [
            "    type               name           tbl_name  rootpage  \\\n",
            "0  table  attrition_records  attrition_records         2   \n",
            "1  table    sqlite_sequence    sqlite_sequence         3   \n",
            "\n",
            "                                                 sql  \n",
            "0  CREATE TABLE attrition_records (\\n            ...  \n",
            "1             CREATE TABLE sqlite_sequence(name,seq)  \n"
          ]
        }
      ]
    },
    {
      "cell_type": "code",
      "source": [
        "# Check overview of tables\n",
        "query2 = '''\n",
        "SELECT \n",
        "    *\n",
        "FROM\n",
        "    sqlite_sequence;\n",
        "    '''\n",
        "\n",
        "sequence = pd.read_sql(query2, sq_data)\n",
        "\n",
        "print(sequence)\n"
      ],
      "metadata": {
        "colab": {
          "base_uri": "https://localhost:8080/"
        },
        "id": "qJ1RlWLdxbnK",
        "outputId": "2109b003-64f6-429b-b2f7-685db4209e1a"
      },
      "execution_count": 13,
      "outputs": [
        {
          "output_type": "stream",
          "name": "stdout",
          "text": [
            "                name   seq\n",
            "0  attrition_records  1470\n"
          ]
        }
      ]
    },
    {
      "cell_type": "code",
      "source": [
        "# Check overview of tables\n",
        "query1 = '''\n",
        "SELECT \n",
        "    *\n",
        "FROM\n",
        "    attrition_records;\n",
        "    '''\n",
        "\n",
        "attr = pd.read_sql(query1, sq_data)\n",
        "\n",
        "print(attr)"
      ],
      "metadata": {
        "colab": {
          "base_uri": "https://localhost:8080/"
        },
        "id": "LSK_z-jYzS-j",
        "outputId": "ac5d254e-1e91-4848-f97c-aa992a509480"
      },
      "execution_count": 16,
      "outputs": [
        {
          "output_type": "stream",
          "name": "stdout",
          "text": [
            "        id  Age Attrition     BusinessTravel  DailyRate  \\\n",
            "0        1   41       Yes      Travel_Rarely       1102   \n",
            "1        2   49        No  Travel_Frequently        279   \n",
            "2        3   37       Yes      Travel_Rarely       1373   \n",
            "3        4   33        No  Travel_Frequently       1392   \n",
            "4        5   27        No      Travel_Rarely        591   \n",
            "...    ...  ...       ...                ...        ...   \n",
            "1465  1466   36        No  Travel_Frequently        884   \n",
            "1466  1467   39        No      Travel_Rarely        613   \n",
            "1467  1468   27        No      Travel_Rarely        155   \n",
            "1468  1469   49        No  Travel_Frequently       1023   \n",
            "1469  1470   34        No      Travel_Rarely        628   \n",
            "\n",
            "                  Department  DistanceFromHome  Education EducationField  \\\n",
            "0                      Sales                 1          2  Life Sciences   \n",
            "1     Research & Development                 8          1  Life Sciences   \n",
            "2     Research & Development                 2          2          Other   \n",
            "3     Research & Development                 3          4  Life Sciences   \n",
            "4     Research & Development                 2          1        Medical   \n",
            "...                      ...               ...        ...            ...   \n",
            "1465  Research & Development                23          2        Medical   \n",
            "1466  Research & Development                 6          1        Medical   \n",
            "1467  Research & Development                 4          3  Life Sciences   \n",
            "1468                   Sales                 2          3        Medical   \n",
            "1469  Research & Development                 8          3        Medical   \n",
            "\n",
            "      EmployeeCount  EmployeeNumber  EnvironmentSatisfaction  Gender  \\\n",
            "0                 1               1                        2  Female   \n",
            "1                 1               2                        3    Male   \n",
            "2                 1               4                        4    Male   \n",
            "3                 1               5                        4  Female   \n",
            "4                 1               7                        1    Male   \n",
            "...             ...             ...                      ...     ...   \n",
            "1465              1            2061                        3    Male   \n",
            "1466              1            2062                        4    Male   \n",
            "1467              1            2064                        2    Male   \n",
            "1468              1            2065                        4    Male   \n",
            "1469              1            2068                        2    Male   \n",
            "\n",
            "      HourlyRate  JobInvolvement  JobLevel                    JobRole  \\\n",
            "0             94               3         2            Sales Executive   \n",
            "1             61               2         2         Research Scientist   \n",
            "2             92               2         1      Laboratory Technician   \n",
            "3             56               3         1         Research Scientist   \n",
            "4             40               3         1      Laboratory Technician   \n",
            "...          ...             ...       ...                        ...   \n",
            "1465          41               4         2      Laboratory Technician   \n",
            "1466          42               2         3  Healthcare Representative   \n",
            "1467          87               4         2     Manufacturing Director   \n",
            "1468          63               2         2            Sales Executive   \n",
            "1469          82               4         2      Laboratory Technician   \n",
            "\n",
            "      JobSatisfaction MaritalStatus  MonthlyIncome  MonthlyRate  \\\n",
            "0                   4        Single           5993        19479   \n",
            "1                   2       Married           5130        24907   \n",
            "2                   3        Single           2090         2396   \n",
            "3                   3       Married           2909        23159   \n",
            "4                   2       Married           3468        16632   \n",
            "...               ...           ...            ...          ...   \n",
            "1465                4       Married           2571        12290   \n",
            "1466                1       Married           9991        21457   \n",
            "1467                2       Married           6142         5174   \n",
            "1468                2       Married           5390        13243   \n",
            "1469                3       Married           4404        10228   \n",
            "\n",
            "      NumCompaniesWorked Over18 OverTime  PercentSalaryHike  \\\n",
            "0                      8      Y      Yes                 11   \n",
            "1                      1      Y       No                 23   \n",
            "2                      6      Y      Yes                 15   \n",
            "3                      1      Y      Yes                 11   \n",
            "4                      9      Y       No                 12   \n",
            "...                  ...    ...      ...                ...   \n",
            "1465                   4      Y       No                 17   \n",
            "1466                   4      Y       No                 15   \n",
            "1467                   1      Y      Yes                 20   \n",
            "1468                   2      Y       No                 14   \n",
            "1469                   2      Y       No                 12   \n",
            "\n",
            "      PerformanceRating  RelationshipSatisfaction  StandardHours  \\\n",
            "0                     3                         1             80   \n",
            "1                     4                         4             80   \n",
            "2                     3                         2             80   \n",
            "3                     3                         3             80   \n",
            "4                     3                         4             80   \n",
            "...                 ...                       ...            ...   \n",
            "1465                  3                         3             80   \n",
            "1466                  3                         1             80   \n",
            "1467                  4                         2             80   \n",
            "1468                  3                         4             80   \n",
            "1469                  3                         1             80   \n",
            "\n",
            "      StockOptionLevel  TotalWorkingYears  TrainingTimesLastYear  \\\n",
            "0                    0                  8                      0   \n",
            "1                    1                 10                      3   \n",
            "2                    0                  7                      3   \n",
            "3                    0                  8                      3   \n",
            "4                    1                  6                      3   \n",
            "...                ...                ...                    ...   \n",
            "1465                 1                 17                      3   \n",
            "1466                 1                  9                      5   \n",
            "1467                 1                  6                      0   \n",
            "1468                 0                 17                      3   \n",
            "1469                 0                  6                      3   \n",
            "\n",
            "      WorkLifeBalance  YearsAtCompany  YearsInCurrentRole  \\\n",
            "0                   1               6                   4   \n",
            "1                   3              10                   7   \n",
            "2                   3               0                   0   \n",
            "3                   3               8                   7   \n",
            "4                   3               2                   2   \n",
            "...               ...             ...                 ...   \n",
            "1465                3               5                   2   \n",
            "1466                3               7                   7   \n",
            "1467                3               6                   2   \n",
            "1468                2               9                   6   \n",
            "1469                4               4                   3   \n",
            "\n",
            "      YearsSinceLastPromotion  YearsWithCurrManager  \n",
            "0                           0                     5  \n",
            "1                           1                     7  \n",
            "2                           0                     0  \n",
            "3                           3                     0  \n",
            "4                           2                     2  \n",
            "...                       ...                   ...  \n",
            "1465                        0                     3  \n",
            "1466                        1                     7  \n",
            "1467                        0                     3  \n",
            "1468                        0                     8  \n",
            "1469                        1                     2  \n",
            "\n",
            "[1470 rows x 36 columns]\n"
          ]
        }
      ]
    },
    {
      "cell_type": "markdown",
      "source": [
        "Task 1\n",
        "\n",
        "What do you think are the 3 factors behind employee attrition?"
      ],
      "metadata": {
        "id": "Dnd2LZ1Mzp7v"
      }
    },
    {
      "cell_type": "code",
      "source": [],
      "metadata": {
        "id": "ZxXyHrSXzhOo"
      },
      "execution_count": null,
      "outputs": []
    }
  ]
}